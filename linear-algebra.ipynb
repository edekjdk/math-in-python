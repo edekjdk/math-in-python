{
 "cells": [
  {
   "cell_type": "markdown",
   "id": "49765c4b-b1ba-41dd-9994-7464fdba2cb6",
   "metadata": {},
   "source": [
    "# Scalars, vectors, matrices, tensors\n",
    "\n",
    "<img src=\"./images/tensors.png\" width = \"500px\">\n",
    "\n",
    "<img src=\"./images/table-tensors.png\" width = \"500px\">"
   ]
  },
  {
   "cell_type": "markdown",
   "id": "24bee8a1-a5b8-43d9-bc34-6952a5979a3d",
   "metadata": {},
   "source": [
    "## 1. Scalars\n",
    "\n",
    "- No dimensions\n",
    "- Single number\n",
    "- Just magintude (value)\n",
    "- Denoted in lowercase, italics, e.g.: *x*\n",
    "- Should be typed, like other tensors: e.g.: int, float32"
   ]
  },
  {
   "cell_type": "markdown",
   "id": "d91d22ac-8b34-4242-9932-5dab86d754c0",
   "metadata": {},
   "source": [
    "### Scalars (Rank 0 Tensors in Base Python)"
   ]
  },
  {
   "cell_type": "code",
   "execution_count": 26,
   "id": "1ee8029b-4f58-4a74-a4af-013fd3626c90",
   "metadata": {},
   "outputs": [
    {
     "data": {
      "text/plain": [
       "69"
      ]
     },
     "execution_count": 26,
     "metadata": {},
     "output_type": "execute_result"
    }
   ],
   "source": [
    "x = 69\n",
    "x"
   ]
  },
  {
   "cell_type": "code",
   "execution_count": 30,
   "id": "4892f878-f478-4e68-8d84-0fe334839f1e",
   "metadata": {},
   "outputs": [
    {
     "data": {
      "text/plain": [
       "70"
      ]
     },
     "execution_count": 30,
     "metadata": {},
     "output_type": "execute_result"
    }
   ],
   "source": [
    "y = 1\n",
    "py_sum = x + y\n",
    "py_sum"
   ]
  },
  {
   "cell_type": "code",
   "execution_count": 32,
   "id": "1572cbda-4d43-4e08-961a-dc1fd14cca54",
   "metadata": {},
   "outputs": [
    {
     "data": {
      "text/plain": [
       "int"
      ]
     },
     "execution_count": 32,
     "metadata": {},
     "output_type": "execute_result"
    }
   ],
   "source": [
    "type(py_sum)"
   ]
  },
  {
   "cell_type": "code",
   "execution_count": 38,
   "id": "9d3ae9a0-f4dd-45f2-8c61-026528163f18",
   "metadata": {},
   "outputs": [
    {
     "data": {
      "text/plain": [
       "70.0"
      ]
     },
     "execution_count": 38,
     "metadata": {},
     "output_type": "execute_result"
    }
   ],
   "source": [
    "float_x = float(x)\n",
    "float_y = float(y)\n",
    "\n",
    "float_sum = float_x + float_y\n",
    "float_sum"
   ]
  },
  {
   "cell_type": "code",
   "execution_count": 40,
   "id": "e034a293-c346-47be-952f-79d49d81a196",
   "metadata": {},
   "outputs": [
    {
     "data": {
      "text/plain": [
       "float"
      ]
     },
     "execution_count": 40,
     "metadata": {},
     "output_type": "execute_result"
    }
   ],
   "source": [
    "type(float_sum)"
   ]
  },
  {
   "cell_type": "code",
   "execution_count": 46,
   "id": "caf3fb2a-6a18-435a-83ef-95486389e6d5",
   "metadata": {},
   "outputs": [
    {
     "data": {
      "text/plain": [
       "70.0"
      ]
     },
     "execution_count": 46,
     "metadata": {},
     "output_type": "execute_result"
    }
   ],
   "source": [
    "mixed_sum =  x + float_y \n",
    "mixed_sum"
   ]
  },
  {
   "cell_type": "code",
   "execution_count": 48,
   "id": "10bc9f7a-184e-41ce-94d3-edc1517b15c4",
   "metadata": {},
   "outputs": [
    {
     "data": {
      "text/plain": [
       "float"
      ]
     },
     "execution_count": 48,
     "metadata": {},
     "output_type": "execute_result"
    }
   ],
   "source": [
    "type(mixed_sum)"
   ]
  },
  {
   "cell_type": "markdown",
   "id": "621535a5-3868-4e18-8ae0-02f5c997bc05",
   "metadata": {},
   "source": [
    "### Scalars in PyTorch"
   ]
  },
  {
   "cell_type": "code",
   "execution_count": 61,
   "id": "e53ef66b-7bd0-46f7-a3ae-742d97bcca14",
   "metadata": {},
   "outputs": [],
   "source": [
    "import torch"
   ]
  },
  {
   "cell_type": "code",
   "execution_count": 67,
   "id": "7d720a38-8784-4bbb-b287-a787aa5cc0fa",
   "metadata": {},
   "outputs": [
    {
     "data": {
      "text/plain": [
       "tensor(420)"
      ]
     },
     "execution_count": 67,
     "metadata": {},
     "output_type": "execute_result"
    }
   ],
   "source": [
    "x_pt = torch.tensor(420)\n",
    "x_pt"
   ]
  },
  {
   "cell_type": "code",
   "execution_count": 71,
   "id": "b9805b83-fcb4-497a-afcc-5bbd961c0d81",
   "metadata": {},
   "outputs": [
    {
     "data": {
      "text/plain": [
       "torch.Size([])"
      ]
     },
     "execution_count": 71,
     "metadata": {},
     "output_type": "execute_result"
    }
   ],
   "source": [
    "x_pt.shape"
   ]
  },
  {
   "cell_type": "markdown",
   "id": "6b47c5af-0c9a-4634-aa49-b033a575d8da",
   "metadata": {},
   "source": [
    "### Scalars in TensorFlow"
   ]
  },
  {
   "cell_type": "code",
   "execution_count": 76,
   "id": "bb8e4ebf-0aed-4716-86a4-21bf53477497",
   "metadata": {},
   "outputs": [],
   "source": [
    "import tensorflow as tf"
   ]
  },
  {
   "cell_type": "code",
   "execution_count": 84,
   "id": "8560a7c3-bfac-4152-b8a6-720dae329c43",
   "metadata": {},
   "outputs": [
    {
     "data": {
      "text/plain": [
       "<tf.Variable 'Variable:0' shape=() dtype=int16, numpy=25>"
      ]
     },
     "execution_count": 84,
     "metadata": {},
     "output_type": "execute_result"
    }
   ],
   "source": [
    "x_tf = tf.Variable(25, dtype=tf.int16) #dtype optional\n",
    "x_tf"
   ]
  },
  {
   "cell_type": "code",
   "execution_count": 86,
   "id": "b88a9c59-6b5b-47df-8afd-7da854d6c6c2",
   "metadata": {},
   "outputs": [
    {
     "data": {
      "text/plain": [
       "TensorShape([])"
      ]
     },
     "execution_count": 86,
     "metadata": {},
     "output_type": "execute_result"
    }
   ],
   "source": [
    "x_tf.shape"
   ]
  },
  {
   "cell_type": "code",
   "execution_count": 94,
   "id": "af6f0993-9a58-4ac9-ad91-2d4494e99699",
   "metadata": {},
   "outputs": [
    {
     "data": {
      "text/plain": [
       "<tf.Tensor: shape=(), dtype=int16, numpy=69>"
      ]
     },
     "execution_count": 94,
     "metadata": {},
     "output_type": "execute_result"
    }
   ],
   "source": [
    "y_tf = tf.Variable(44, dtype=tf.int16)\n",
    "x_tf + y_tf"
   ]
  },
  {
   "cell_type": "code",
   "execution_count": 98,
   "id": "c21549fa-b797-4c43-b7c0-8e43732adce9",
   "metadata": {},
   "outputs": [
    {
     "data": {
      "text/plain": [
       "<tf.Tensor: shape=(), dtype=int16, numpy=69>"
      ]
     },
     "execution_count": 98,
     "metadata": {},
     "output_type": "execute_result"
    }
   ],
   "source": [
    "sum_tf = tf.add(x_tf, y_tf)\n",
    "sum_tf"
   ]
  },
  {
   "cell_type": "code",
   "execution_count": 102,
   "id": "88ad50fb-3a18-4877-9700-38919de71c80",
   "metadata": {},
   "outputs": [
    {
     "data": {
      "text/plain": [
       "69"
      ]
     },
     "execution_count": 102,
     "metadata": {},
     "output_type": "execute_result"
    }
   ],
   "source": [
    "sum_tf.numpy()"
   ]
  },
  {
   "cell_type": "markdown",
   "id": "bcfb08c4-1282-48b4-8ace-29f041f78714",
   "metadata": {},
   "source": [
    "## 2. Vectors\n",
    "- One dimensional array of numbers\n",
    "- Denoted in lowercase, italics, bold, e.g.: ***x***\n",
    "- Arranged in an order, so element can be accessed by its index\n",
    "- Elements in Vertors are scalars, (not bold) e.g.: *x$_1$*, *x$_2$* - elements of ***x***\n",
    "- Vectors are representing a point in space:\n",
    "  - Vectors of length two represents location in 2D matrix\n",
    "  - Vectors of length three represents location in 3D cube\n",
    "  - Length of *n* represents locatuion in *n-dimensional* tensor"
   ]
  },
  {
   "cell_type": "markdown",
   "id": "6d27b0f7-bba7-4105-844f-368c757229ba",
   "metadata": {},
   "source": [
    "## Vectors (Rank 1 Tensors in Base Python)"
   ]
  },
  {
   "cell_type": "code",
   "execution_count": null,
   "id": "36e7ca94-8795-4886-8fb6-8f13c6050cc7",
   "metadata": {},
   "outputs": [],
   "source": []
  }
 ],
 "metadata": {
  "kernelspec": {
   "display_name": "Python 3 (ipykernel)",
   "language": "python",
   "name": "python3"
  },
  "language_info": {
   "codemirror_mode": {
    "name": "ipython",
    "version": 3
   },
   "file_extension": ".py",
   "mimetype": "text/x-python",
   "name": "python",
   "nbconvert_exporter": "python",
   "pygments_lexer": "ipython3",
   "version": "3.12.7"
  }
 },
 "nbformat": 4,
 "nbformat_minor": 5
}
