{
 "cells": [
  {
   "cell_type": "markdown",
   "id": "49765c4b-b1ba-41dd-9994-7464fdba2cb6",
   "metadata": {},
   "source": [
    "# Scalars, vectors, matrices, tensors\n",
    "\n",
    "<img src=\"./images/tensors.png\" width = \"500px\">\n",
    "\n",
    "<img src=\"./images/table-tensors.png\" width = \"500px\">"
   ]
  },
  {
   "cell_type": "markdown",
   "id": "24bee8a1-a5b8-43d9-bc34-6952a5979a3d",
   "metadata": {},
   "source": [
    "## 1. Scalars\n",
    "\n",
    "- No dimensions\n",
    "- Single number\n",
    "- Just magintude (value)\n",
    "- Denoted in lowercase, italics, e.g.: *x*\n",
    "- Should be typed, like other tensors: e.g.: int, float32"
   ]
  },
  {
   "cell_type": "markdown",
   "id": "d91d22ac-8b34-4242-9932-5dab86d754c0",
   "metadata": {},
   "source": [
    "### Scalars (Rank 0 Tensors in Base Python)"
   ]
  },
  {
   "cell_type": "code",
   "execution_count": 26,
   "id": "1ee8029b-4f58-4a74-a4af-013fd3626c90",
   "metadata": {},
   "outputs": [
    {
     "data": {
      "text/plain": [
       "69"
      ]
     },
     "execution_count": 26,
     "metadata": {},
     "output_type": "execute_result"
    }
   ],
   "source": [
    "x = 69\n",
    "x"
   ]
  },
  {
   "cell_type": "code",
   "execution_count": 30,
   "id": "4892f878-f478-4e68-8d84-0fe334839f1e",
   "metadata": {},
   "outputs": [
    {
     "data": {
      "text/plain": [
       "70"
      ]
     },
     "execution_count": 30,
     "metadata": {},
     "output_type": "execute_result"
    }
   ],
   "source": [
    "y = 1\n",
    "py_sum = x + y\n",
    "py_sum"
   ]
  },
  {
   "cell_type": "code",
   "execution_count": 32,
   "id": "1572cbda-4d43-4e08-961a-dc1fd14cca54",
   "metadata": {},
   "outputs": [
    {
     "data": {
      "text/plain": [
       "int"
      ]
     },
     "execution_count": 32,
     "metadata": {},
     "output_type": "execute_result"
    }
   ],
   "source": [
    "type(py_sum)"
   ]
  },
  {
   "cell_type": "code",
   "execution_count": 38,
   "id": "9d3ae9a0-f4dd-45f2-8c61-026528163f18",
   "metadata": {},
   "outputs": [
    {
     "data": {
      "text/plain": [
       "70.0"
      ]
     },
     "execution_count": 38,
     "metadata": {},
     "output_type": "execute_result"
    }
   ],
   "source": [
    "float_x = float(x)\n",
    "float_y = float(y)\n",
    "\n",
    "float_sum = float_x + float_y\n",
    "float_sum"
   ]
  },
  {
   "cell_type": "code",
   "execution_count": 40,
   "id": "e034a293-c346-47be-952f-79d49d81a196",
   "metadata": {},
   "outputs": [
    {
     "data": {
      "text/plain": [
       "float"
      ]
     },
     "execution_count": 40,
     "metadata": {},
     "output_type": "execute_result"
    }
   ],
   "source": [
    "type(float_sum)"
   ]
  },
  {
   "cell_type": "code",
   "execution_count": 46,
   "id": "caf3fb2a-6a18-435a-83ef-95486389e6d5",
   "metadata": {},
   "outputs": [
    {
     "data": {
      "text/plain": [
       "70.0"
      ]
     },
     "execution_count": 46,
     "metadata": {},
     "output_type": "execute_result"
    }
   ],
   "source": [
    "mixed_sum =  x + float_y \n",
    "mixed_sum"
   ]
  },
  {
   "cell_type": "code",
   "execution_count": 48,
   "id": "10bc9f7a-184e-41ce-94d3-edc1517b15c4",
   "metadata": {},
   "outputs": [
    {
     "data": {
      "text/plain": [
       "float"
      ]
     },
     "execution_count": 48,
     "metadata": {},
     "output_type": "execute_result"
    }
   ],
   "source": [
    "type(mixed_sum)"
   ]
  },
  {
   "cell_type": "markdown",
   "id": "621535a5-3868-4e18-8ae0-02f5c997bc05",
   "metadata": {},
   "source": [
    "### Scalars in PyTorch"
   ]
  },
  {
   "cell_type": "code",
   "execution_count": 61,
   "id": "e53ef66b-7bd0-46f7-a3ae-742d97bcca14",
   "metadata": {},
   "outputs": [],
   "source": [
    "import torch"
   ]
  },
  {
   "cell_type": "code",
   "execution_count": 67,
   "id": "7d720a38-8784-4bbb-b287-a787aa5cc0fa",
   "metadata": {},
   "outputs": [
    {
     "data": {
      "text/plain": [
       "tensor(420)"
      ]
     },
     "execution_count": 67,
     "metadata": {},
     "output_type": "execute_result"
    }
   ],
   "source": [
    "x_pt = torch.tensor(420)\n",
    "x_pt"
   ]
  },
  {
   "cell_type": "code",
   "execution_count": 71,
   "id": "b9805b83-fcb4-497a-afcc-5bbd961c0d81",
   "metadata": {},
   "outputs": [
    {
     "data": {
      "text/plain": [
       "torch.Size([])"
      ]
     },
     "execution_count": 71,
     "metadata": {},
     "output_type": "execute_result"
    }
   ],
   "source": [
    "x_pt.shape"
   ]
  },
  {
   "cell_type": "markdown",
   "id": "6b47c5af-0c9a-4634-aa49-b033a575d8da",
   "metadata": {},
   "source": [
    "### Scalars in TensorFlow"
   ]
  },
  {
   "cell_type": "code",
   "execution_count": 76,
   "id": "bb8e4ebf-0aed-4716-86a4-21bf53477497",
   "metadata": {},
   "outputs": [],
   "source": [
    "import tensorflow as tf"
   ]
  },
  {
   "cell_type": "code",
   "execution_count": 84,
   "id": "8560a7c3-bfac-4152-b8a6-720dae329c43",
   "metadata": {},
   "outputs": [
    {
     "data": {
      "text/plain": [
       "<tf.Variable 'Variable:0' shape=() dtype=int16, numpy=25>"
      ]
     },
     "execution_count": 84,
     "metadata": {},
     "output_type": "execute_result"
    }
   ],
   "source": [
    "x_tf = tf.Variable(25, dtype=tf.int16) #dtype optional\n",
    "x_tf"
   ]
  },
  {
   "cell_type": "code",
   "execution_count": 86,
   "id": "b88a9c59-6b5b-47df-8afd-7da854d6c6c2",
   "metadata": {},
   "outputs": [
    {
     "data": {
      "text/plain": [
       "TensorShape([])"
      ]
     },
     "execution_count": 86,
     "metadata": {},
     "output_type": "execute_result"
    }
   ],
   "source": [
    "x_tf.shape"
   ]
  },
  {
   "cell_type": "code",
   "execution_count": 94,
   "id": "af6f0993-9a58-4ac9-ad91-2d4494e99699",
   "metadata": {},
   "outputs": [
    {
     "data": {
      "text/plain": [
       "<tf.Tensor: shape=(), dtype=int16, numpy=69>"
      ]
     },
     "execution_count": 94,
     "metadata": {},
     "output_type": "execute_result"
    }
   ],
   "source": [
    "y_tf = tf.Variable(44, dtype=tf.int16)\n",
    "x_tf + y_tf"
   ]
  },
  {
   "cell_type": "code",
   "execution_count": 98,
   "id": "c21549fa-b797-4c43-b7c0-8e43732adce9",
   "metadata": {},
   "outputs": [
    {
     "data": {
      "text/plain": [
       "<tf.Tensor: shape=(), dtype=int16, numpy=69>"
      ]
     },
     "execution_count": 98,
     "metadata": {},
     "output_type": "execute_result"
    }
   ],
   "source": [
    "sum_tf = tf.add(x_tf, y_tf)\n",
    "sum_tf"
   ]
  },
  {
   "cell_type": "code",
   "execution_count": 102,
   "id": "88ad50fb-3a18-4877-9700-38919de71c80",
   "metadata": {},
   "outputs": [
    {
     "data": {
      "text/plain": [
       "69"
      ]
     },
     "execution_count": 102,
     "metadata": {},
     "output_type": "execute_result"
    }
   ],
   "source": [
    "sum_tf.numpy()"
   ]
  },
  {
   "cell_type": "markdown",
   "id": "bcfb08c4-1282-48b4-8ace-29f041f78714",
   "metadata": {},
   "source": [
    "## 2. Vectors\n",
    "- One dimensional array of numbers\n",
    "- Denoted in lowercase, italics, bold, e.g.: ***x***\n",
    "- Arranged in an order, so element can be accessed by its index\n",
    "- Elements in Vertors are scalars, (not bold) e.g.: *x$_1$*, *x$_2$* - elements of ***x***\n",
    "- Vectors are representing a point in space:\n",
    "  - Vectors of length two represents location in 2D matrix\n",
    "  - Vectors of length three represents location in 3D cube\n",
    "  - Length of *n* represents location in *n-dimensional* tensor"
   ]
  },
  {
   "cell_type": "markdown",
   "id": "6d27b0f7-bba7-4105-844f-368c757229ba",
   "metadata": {},
   "source": [
    "### Vectors (Rank 1 Tensors in NumPy)"
   ]
  },
  {
   "cell_type": "code",
   "execution_count": 123,
   "id": "36e7ca94-8795-4886-8fb6-8f13c6050cc7",
   "metadata": {},
   "outputs": [],
   "source": [
    "import numpy as np"
   ]
  },
  {
   "cell_type": "code",
   "execution_count": 127,
   "id": "9939b58b-4dec-4c55-b5dd-88ea7e74f087",
   "metadata": {},
   "outputs": [
    {
     "data": {
      "text/plain": [
       "array([1, 2, 3])"
      ]
     },
     "execution_count": 127,
     "metadata": {},
     "output_type": "execute_result"
    }
   ],
   "source": [
    "x = np.array([1,2,3])\n",
    "x"
   ]
  },
  {
   "cell_type": "code",
   "execution_count": 129,
   "id": "e25643cc-52dc-4d64-98af-2741e70901f7",
   "metadata": {},
   "outputs": [
    {
     "data": {
      "text/plain": [
       "(3,)"
      ]
     },
     "execution_count": 129,
     "metadata": {},
     "output_type": "execute_result"
    }
   ],
   "source": [
    "x.shape"
   ]
  },
  {
   "cell_type": "code",
   "execution_count": 131,
   "id": "1a7f9e15-929a-4f5a-9ab6-0a5a00e5948d",
   "metadata": {},
   "outputs": [
    {
     "data": {
      "text/plain": [
       "3"
      ]
     },
     "execution_count": 131,
     "metadata": {},
     "output_type": "execute_result"
    }
   ],
   "source": [
    "len(x)"
   ]
  },
  {
   "cell_type": "code",
   "execution_count": 133,
   "id": "042c9e0a-4cfd-45ab-88f4-cc1070e90acb",
   "metadata": {},
   "outputs": [
    {
     "data": {
      "text/plain": [
       "1"
      ]
     },
     "execution_count": 133,
     "metadata": {},
     "output_type": "execute_result"
    }
   ],
   "source": [
    "x[0]"
   ]
  },
  {
   "cell_type": "markdown",
   "id": "757b0599-c256-4297-90f7-8806c4f63c54",
   "metadata": {},
   "source": [
    "### Vector Transposition"
   ]
  },
  {
   "cell_type": "code",
   "execution_count": 141,
   "id": "0834cfe5-5713-4ef9-acf8-b42027cc3a1c",
   "metadata": {},
   "outputs": [
    {
     "data": {
      "text/plain": [
       "array([1, 2, 3])"
      ]
     },
     "execution_count": 141,
     "metadata": {},
     "output_type": "execute_result"
    }
   ],
   "source": [
    "x_t = x.T\n",
    "x_t"
   ]
  },
  {
   "cell_type": "code",
   "execution_count": 143,
   "id": "7e8fd04f-470c-439b-90bd-a6981e5c6de0",
   "metadata": {},
   "outputs": [
    {
     "data": {
      "text/plain": [
       "(3,)"
      ]
     },
     "execution_count": 143,
     "metadata": {},
     "output_type": "execute_result"
    }
   ],
   "source": [
    "x.shape"
   ]
  },
  {
   "cell_type": "code",
   "execution_count": 147,
   "id": "86a186f0-56f9-4d1d-b1c4-f683559a36ae",
   "metadata": {},
   "outputs": [
    {
     "data": {
      "text/plain": [
       "array([[1, 2, 3]])"
      ]
     },
     "execution_count": 147,
     "metadata": {},
     "output_type": "execute_result"
    }
   ],
   "source": [
    "y = np.array([[1,2,3]])\n",
    "y"
   ]
  },
  {
   "cell_type": "code",
   "execution_count": 149,
   "id": "cfcaebdf-8e22-46dd-8b5d-72557363aa22",
   "metadata": {},
   "outputs": [
    {
     "data": {
      "text/plain": [
       "(1, 3)"
      ]
     },
     "execution_count": 149,
     "metadata": {},
     "output_type": "execute_result"
    }
   ],
   "source": [
    "y.shape"
   ]
  },
  {
   "cell_type": "code",
   "execution_count": 153,
   "id": "b2dd4c8f-2431-4958-832a-fcec90082228",
   "metadata": {},
   "outputs": [
    {
     "data": {
      "text/plain": [
       "array([[1],\n",
       "       [2],\n",
       "       [3]])"
      ]
     },
     "execution_count": 153,
     "metadata": {},
     "output_type": "execute_result"
    }
   ],
   "source": [
    "y_t = y.T\n",
    "y_t"
   ]
  },
  {
   "cell_type": "code",
   "execution_count": 155,
   "id": "90f6fea7-6926-4e80-96b8-f1783c598825",
   "metadata": {},
   "outputs": [
    {
     "data": {
      "text/plain": [
       "(3, 1)"
      ]
     },
     "execution_count": 155,
     "metadata": {},
     "output_type": "execute_result"
    }
   ],
   "source": [
    "y_t.shape"
   ]
  },
  {
   "cell_type": "code",
   "execution_count": 161,
   "id": "e09f5a4a-8adb-4d0c-a361-0b40e3677f72",
   "metadata": {},
   "outputs": [
    {
     "data": {
      "text/plain": [
       "array([3])"
      ]
     },
     "execution_count": 161,
     "metadata": {},
     "output_type": "execute_result"
    }
   ],
   "source": [
    "y_t[2]"
   ]
  },
  {
   "cell_type": "markdown",
   "id": "6b1b6580-f137-411c-a3e5-8d57b7c0203b",
   "metadata": {},
   "source": [
    "### Vectors in PyTorch and TensorFlow"
   ]
  },
  {
   "cell_type": "code",
   "execution_count": 165,
   "id": "32f5eba1-a417-4349-88e6-ec309aca80f3",
   "metadata": {},
   "outputs": [
    {
     "data": {
      "text/plain": [
       "tensor([1, 2, 3])"
      ]
     },
     "execution_count": 165,
     "metadata": {},
     "output_type": "execute_result"
    }
   ],
   "source": [
    "x_pt = torch.tensor([1,2,3])\n",
    "x_pt"
   ]
  },
  {
   "cell_type": "code",
   "execution_count": 176,
   "id": "059f2bf4-4a10-4406-ac9a-374e2ba5b086",
   "metadata": {},
   "outputs": [
    {
     "data": {
      "text/plain": [
       "<tf.Variable 'Variable:0' shape=(3,) dtype=int32, numpy=array([1, 2, 3])>"
      ]
     },
     "execution_count": 176,
     "metadata": {},
     "output_type": "execute_result"
    }
   ],
   "source": [
    "x_tf = tf.Variable([1,2,3])\n",
    "x_tf"
   ]
  },
  {
   "cell_type": "markdown",
   "id": "7960f5da-c99a-4603-a262-c983c9b62ad0",
   "metadata": {},
   "source": [
    "## 3. Norms of Vectors"
   ]
  },
  {
   "cell_type": "markdown",
   "id": "bfb90a5f-db61-4d83-b5c0-c52db6b5eeed",
   "metadata": {},
   "source": [
    "### $L^2$ Norm\n",
    "\n",
    "\n",
    "$$\n",
    "\\|x\\|_2 = \\sqrt{\\sum_{i=1}^{n} |x_i|^2}\n",
    "$$\n",
    "\n"
   ]
  },
  {
   "cell_type": "markdown",
   "id": "3bf4de9f-e36b-49e2-bea4-9e2d27b01cfe",
   "metadata": {},
   "source": [
    "### $L^2$ Norm in Python"
   ]
  },
  {
   "cell_type": "code",
   "execution_count": 215,
   "id": "bf93dbc4-916c-49be-b496-81593dae42d3",
   "metadata": {},
   "outputs": [
    {
     "data": {
      "text/plain": [
       "3.7416573867739413"
      ]
     },
     "execution_count": 215,
     "metadata": {},
     "output_type": "execute_result"
    }
   ],
   "source": [
    "vector = np.array([1,2,3])\n",
    "\n",
    "v_sum = 0 \n",
    "for i in vector:\n",
    "    v_sum += i ** 2\n",
    "v_sum ** (1/2)"
   ]
  },
  {
   "cell_type": "code",
   "execution_count": 240,
   "id": "11a72f3b-99ca-4122-b7a8-d63c14c9296d",
   "metadata": {},
   "outputs": [
    {
     "data": {
      "text/plain": [
       "3.7416573867739413"
      ]
     },
     "execution_count": 240,
     "metadata": {},
     "output_type": "execute_result"
    }
   ],
   "source": [
    "np.linalg.norm(vector)"
   ]
  },
  {
   "cell_type": "code",
   "execution_count": 275,
   "id": "3d42dabe-4216-49f5-b3b0-172c8f86e58c",
   "metadata": {},
   "outputs": [
    {
     "data": {
      "text/plain": [
       "3.7416573867739413"
      ]
     },
     "execution_count": 275,
     "metadata": {},
     "output_type": "execute_result"
    }
   ],
   "source": [
    "np.sum(vector**2)**(1/2)"
   ]
  },
  {
   "cell_type": "markdown",
   "id": "fe12e3d8-b1df-4204-8e0a-6a3de2c5700d",
   "metadata": {},
   "source": [
    "### Squared $L^2$ Norm\n",
    "\n",
    "$$\n",
    "\\|x\\|_2^2 = \\sum_{i=1}^{n} |x_i|^2\n",
    "$$\n"
   ]
  },
  {
   "cell_type": "markdown",
   "id": "f15d6ad4-ed41-4392-bd24-ba260fbcf274",
   "metadata": {},
   "source": [
    "### Squared $L^2$ Norm in Python"
   ]
  },
  {
   "cell_type": "code",
   "execution_count": 269,
   "id": "e6033426-391a-4b8f-b2a7-d55d930e3888",
   "metadata": {},
   "outputs": [
    {
     "data": {
      "text/plain": [
       "14"
      ]
     },
     "execution_count": 269,
     "metadata": {},
     "output_type": "execute_result"
    }
   ],
   "source": [
    "vector = np.array([1,2,3])\n",
    "\n",
    "v_sum = 0 \n",
    "for i in vector:\n",
    "    v_sum += i ** 2\n",
    "v_sum "
   ]
  },
  {
   "cell_type": "code",
   "execution_count": 271,
   "id": "6a8d1bb2-c841-4ab5-bda7-73368614eaf2",
   "metadata": {},
   "outputs": [
    {
     "data": {
      "text/plain": [
       "14"
      ]
     },
     "execution_count": 271,
     "metadata": {},
     "output_type": "execute_result"
    }
   ],
   "source": [
    "np.dot(vector.T, vector)"
   ]
  },
  {
   "cell_type": "code",
   "execution_count": 273,
   "id": "97222ad1-35d3-4fde-a37a-69e789c559c4",
   "metadata": {},
   "outputs": [
    {
     "data": {
      "text/plain": [
       "14"
      ]
     },
     "execution_count": 273,
     "metadata": {},
     "output_type": "execute_result"
    }
   ],
   "source": [
    "np.sum(vector**2)"
   ]
  },
  {
   "cell_type": "markdown",
   "id": "b9766a28-a865-4217-a8bc-0a2ffa45112e",
   "metadata": {},
   "source": [
    "### $L^1$ Norm"
   ]
  },
  {
   "cell_type": "markdown",
   "id": "1c6b0a7c-46d4-4297-8bc1-18e655df6036",
   "metadata": {},
   "source": [
    "$$\n",
    "\\|x\\|_1 = \\sum_{i=1}^{n} |x_i|\n",
    "$$"
   ]
  },
  {
   "cell_type": "code",
   "execution_count": 287,
   "id": "ea00d057-9f74-45f7-8840-5a6f0228595a",
   "metadata": {},
   "outputs": [
    {
     "data": {
      "text/plain": [
       "6"
      ]
     },
     "execution_count": 287,
     "metadata": {},
     "output_type": "execute_result"
    }
   ],
   "source": [
    "vector = np.array([1,2,3])\n",
    "\n",
    "v_sum = 0 \n",
    "for i in vector:\n",
    "    v_sum += abs(i) \n",
    "v_sum \n"
   ]
  },
  {
   "cell_type": "code",
   "execution_count": 291,
   "id": "2aecfb5c-1ca7-4b5a-9000-ccd0f339ddbe",
   "metadata": {},
   "outputs": [
    {
     "data": {
      "text/plain": [
       "6"
      ]
     },
     "execution_count": 291,
     "metadata": {},
     "output_type": "execute_result"
    }
   ],
   "source": [
    "np.sum(abs(vector))"
   ]
  },
  {
   "cell_type": "markdown",
   "id": "3e1ae44a-ce9d-4277-a756-c3c82fdb3a2a",
   "metadata": {},
   "source": [
    "### Max Norm ($L^\\infty$)"
   ]
  },
  {
   "cell_type": "markdown",
   "id": "969f6ce8-479d-4e12-97f7-611807a57338",
   "metadata": {},
   "source": [
    "$$\n",
    "\\|x\\|_\\infty = \\max(|x_i|)\n",
    "$$"
   ]
  },
  {
   "cell_type": "code",
   "execution_count": 304,
   "id": "b349dbae-5172-4678-8ded-6438c1676b01",
   "metadata": {},
   "outputs": [
    {
     "data": {
      "text/plain": [
       "3"
      ]
     },
     "execution_count": 304,
     "metadata": {},
     "output_type": "execute_result"
    }
   ],
   "source": [
    "vector = np.array([1,2,3])\n",
    "\n",
    "max(abs(vector))"
   ]
  },
  {
   "cell_type": "markdown",
   "id": "5cc8d823-1747-4af9-9e15-76a25fb78ec9",
   "metadata": {},
   "source": [
    "### Generalized $L^p$ notation"
   ]
  },
  {
   "cell_type": "markdown",
   "id": "db135056-f1be-4a76-ba99-34b223cba0b8",
   "metadata": {},
   "source": [
    "$$\n",
    "\\|x\\|_p = \\left(\\sum_{i=1}^{n} |x_i|^p)\\right)^{\\frac{1}{p}}\n",
    "$$"
   ]
  },
  {
   "cell_type": "markdown",
   "id": "e7baca21-af60-4be9-a815-f5969d4c8df2",
   "metadata": {},
   "source": [
    "### Orthogonl Vectors"
   ]
  },
  {
   "cell_type": "markdown",
   "id": "6ccf03f3-672c-4610-b865-07e4ad87ac69",
   "metadata": {},
   "source": [
    "$$\n",
    "x^T\\cdot y = 0\n",
    "$$"
   ]
  },
  {
   "cell_type": "code",
   "execution_count": 347,
   "id": "47cd8816-b8aa-4cd0-b3f3-da18f4ca7e9e",
   "metadata": {},
   "outputs": [
    {
     "data": {
      "text/plain": [
       "0"
      ]
     },
     "execution_count": 347,
     "metadata": {},
     "output_type": "execute_result"
    }
   ],
   "source": [
    "x = np.array([0,1])\n",
    "y = np.array([1,0])\n",
    "\n",
    "np.dot(x,y)"
   ]
  },
  {
   "cell_type": "markdown",
   "id": "c0749c40-8043-4087-aa3c-3f8cbe306f01",
   "metadata": {},
   "source": [
    "## 3. Matrices"
   ]
  },
  {
   "cell_type": "markdown",
   "id": "edf10189-1aa0-4ccc-a702-822dc91b4f72",
   "metadata": {},
   "source": [
    "- Two dimensional array of numbers\n",
    "- Denoted in uppercase, italics, bold, e.g.: ***X***\n",
    "- Individual scalar elements denoted in uppercase, italics only\n",
    "- Colon represents an entrie row or column:\n",
    "  - Left column of matrix ***X*** is ***$X_{:,1}$***\n",
    "  - Middle row of Matrix ***X*** is ***$X_{2,:}$***"
   ]
  },
  {
   "cell_type": "markdown",
   "id": "9ea8b214-221d-4605-aa38-c1ef7a95bf6d",
   "metadata": {},
   "source": [
    "### Matrices (Rank 2 Tensors) in NumPy"
   ]
  },
  {
   "cell_type": "code",
   "execution_count": 363,
   "id": "07dfc2e9-ca60-4833-8952-6011691f53a2",
   "metadata": {},
   "outputs": [
    {
     "data": {
      "text/plain": [
       "array([[1, 2, 3],\n",
       "       [4, 5, 6]])"
      ]
     },
     "execution_count": 363,
     "metadata": {},
     "output_type": "execute_result"
    }
   ],
   "source": [
    "X = np.array([[1,2,3], [4,5,6]])\n",
    "X"
   ]
  },
  {
   "cell_type": "code",
   "execution_count": 367,
   "id": "2056f94a-8273-4e6e-94e0-74971fc17337",
   "metadata": {},
   "outputs": [
    {
     "data": {
      "text/plain": [
       "(2, 3)"
      ]
     },
     "execution_count": 367,
     "metadata": {},
     "output_type": "execute_result"
    }
   ],
   "source": [
    "X.shape"
   ]
  },
  {
   "cell_type": "code",
   "execution_count": 369,
   "id": "e0326987-3336-4062-8708-bf614b5287ac",
   "metadata": {},
   "outputs": [
    {
     "data": {
      "text/plain": [
       "6"
      ]
     },
     "execution_count": 369,
     "metadata": {},
     "output_type": "execute_result"
    }
   ],
   "source": [
    "X.size"
   ]
  },
  {
   "cell_type": "code",
   "execution_count": 371,
   "id": "2a63357e-7de6-4fca-8fa9-9cdcf79ca6da",
   "metadata": {},
   "outputs": [
    {
     "data": {
      "text/plain": [
       "array([[1, 4],\n",
       "       [2, 5],\n",
       "       [3, 6]])"
      ]
     },
     "execution_count": 371,
     "metadata": {},
     "output_type": "execute_result"
    }
   ],
   "source": [
    "X.T"
   ]
  },
  {
   "cell_type": "code",
   "execution_count": 377,
   "id": "c45c02cd-cde9-4a6f-a829-824005838914",
   "metadata": {},
   "outputs": [
    {
     "data": {
      "text/plain": [
       "array([[1, 2, 3],\n",
       "       [4, 5, 6]])"
      ]
     },
     "execution_count": 377,
     "metadata": {},
     "output_type": "execute_result"
    }
   ],
   "source": [
    "X"
   ]
  },
  {
   "cell_type": "code",
   "execution_count": 381,
   "id": "c5d4aece-991c-49fa-9c7f-b70d68c908ea",
   "metadata": {},
   "outputs": [
    {
     "data": {
      "text/plain": [
       "3"
      ]
     },
     "execution_count": 381,
     "metadata": {},
     "output_type": "execute_result"
    }
   ],
   "source": [
    "X[0,2]"
   ]
  },
  {
   "cell_type": "code",
   "execution_count": 383,
   "id": "596ac4a1-a1dd-46e3-a345-a3f618fff807",
   "metadata": {},
   "outputs": [
    {
     "data": {
      "text/plain": [
       "array([2, 5])"
      ]
     },
     "execution_count": 383,
     "metadata": {},
     "output_type": "execute_result"
    }
   ],
   "source": [
    "X[:,1]"
   ]
  },
  {
   "cell_type": "code",
   "execution_count": 385,
   "id": "a3e5b07e-fc49-451e-957d-2faca6b82261",
   "metadata": {},
   "outputs": [
    {
     "data": {
      "text/plain": [
       "array([4, 5, 6])"
      ]
     },
     "execution_count": 385,
     "metadata": {},
     "output_type": "execute_result"
    }
   ],
   "source": [
    "X[1,:]"
   ]
  },
  {
   "cell_type": "code",
   "execution_count": 395,
   "id": "7c070380-696a-4fef-8e67-7197e7e75fd9",
   "metadata": {},
   "outputs": [
    {
     "data": {
      "text/plain": [
       "array([[1, 2, 3],\n",
       "       [4, 5, 6]])"
      ]
     },
     "execution_count": 395,
     "metadata": {},
     "output_type": "execute_result"
    }
   ],
   "source": [
    "X"
   ]
  },
  {
   "cell_type": "code",
   "execution_count": 407,
   "id": "8f8b98ee-1397-44ba-bf38-4a32b483cc06",
   "metadata": {},
   "outputs": [
    {
     "data": {
      "text/plain": [
       "array([[2, 3],\n",
       "       [5, 6]])"
      ]
     },
     "execution_count": 407,
     "metadata": {},
     "output_type": "execute_result"
    }
   ],
   "source": [
    "X[0:3, 1:3]"
   ]
  },
  {
   "cell_type": "code",
   "execution_count": 411,
   "id": "2c52d800-3545-48ad-9494-e4fed8d2d880",
   "metadata": {},
   "outputs": [
    {
     "data": {
      "text/plain": [
       "array([[2, 3],\n",
       "       [5, 6]])"
      ]
     },
     "execution_count": 411,
     "metadata": {},
     "output_type": "execute_result"
    }
   ],
   "source": [
    "X[0:, 1:]"
   ]
  },
  {
   "cell_type": "markdown",
   "id": "890c8be8-4053-4334-acdd-2b3c31f4ac1a",
   "metadata": {},
   "source": [
    "## Matrices in PyTorch"
   ]
  },
  {
   "cell_type": "code",
   "execution_count": 416,
   "id": "5d773509-a575-4325-81e3-0f7731e0bcbc",
   "metadata": {},
   "outputs": [
    {
     "data": {
      "text/plain": [
       "torch.Size([3, 3])"
      ]
     },
     "execution_count": 416,
     "metadata": {},
     "output_type": "execute_result"
    }
   ],
   "source": [
    "X_pt = torch.tensor([[1,2,3], [4,5,6], [7,8,9]])\n",
    "X_pt.shape"
   ]
  },
  {
   "cell_type": "markdown",
   "id": "9245ecaf-400d-41d2-82b1-93538d1e9b3d",
   "metadata": {},
   "source": [
    "## Matrices in TensorFlow"
   ]
  },
  {
   "cell_type": "code",
   "execution_count": 429,
   "id": "0026e477-5266-4795-88b0-4c0db5eebd3b",
   "metadata": {},
   "outputs": [
    {
     "data": {
      "text/plain": [
       "<tf.Variable 'Variable:0' shape=(3, 2) dtype=int32, numpy=\n",
       "array([[1, 2],\n",
       "       [3, 4],\n",
       "       [5, 6]])>"
      ]
     },
     "execution_count": 429,
     "metadata": {},
     "output_type": "execute_result"
    }
   ],
   "source": [
    "X_tf = tf.Variable([[1,2], [3,4], [5,6]])\n",
    "X_tf"
   ]
  },
  {
   "cell_type": "code",
   "execution_count": 431,
   "id": "8b7c33f2-8ea7-44ff-9a98-5de3abf92253",
   "metadata": {},
   "outputs": [
    {
     "data": {
      "text/plain": [
       "<tf.Tensor: shape=(), dtype=int32, numpy=2>"
      ]
     },
     "execution_count": 431,
     "metadata": {},
     "output_type": "execute_result"
    }
   ],
   "source": [
    "tf.rank(X_tf)"
   ]
  },
  {
   "cell_type": "markdown",
   "id": "8bf0a13a-6e9f-4b0c-a67a-7c41e4e1f08b",
   "metadata": {},
   "source": [
    "## 4. Higher-Rank Tensors"
   ]
  },
  {
   "cell_type": "code",
   "execution_count": 436,
   "id": "0795153a-1195-4fe5-a8b5-55365d756560",
   "metadata": {},
   "outputs": [
    {
     "data": {
      "text/plain": [
       "tensor([[[[0., 0., 0.],\n",
       "          [0., 0., 0.],\n",
       "          [0., 0., 0.],\n",
       "          ...,\n",
       "          [0., 0., 0.],\n",
       "          [0., 0., 0.],\n",
       "          [0., 0., 0.]],\n",
       "\n",
       "         [[0., 0., 0.],\n",
       "          [0., 0., 0.],\n",
       "          [0., 0., 0.],\n",
       "          ...,\n",
       "          [0., 0., 0.],\n",
       "          [0., 0., 0.],\n",
       "          [0., 0., 0.]],\n",
       "\n",
       "         [[0., 0., 0.],\n",
       "          [0., 0., 0.],\n",
       "          [0., 0., 0.],\n",
       "          ...,\n",
       "          [0., 0., 0.],\n",
       "          [0., 0., 0.],\n",
       "          [0., 0., 0.]],\n",
       "\n",
       "         ...,\n",
       "\n",
       "         [[0., 0., 0.],\n",
       "          [0., 0., 0.],\n",
       "          [0., 0., 0.],\n",
       "          ...,\n",
       "          [0., 0., 0.],\n",
       "          [0., 0., 0.],\n",
       "          [0., 0., 0.]],\n",
       "\n",
       "         [[0., 0., 0.],\n",
       "          [0., 0., 0.],\n",
       "          [0., 0., 0.],\n",
       "          ...,\n",
       "          [0., 0., 0.],\n",
       "          [0., 0., 0.],\n",
       "          [0., 0., 0.]],\n",
       "\n",
       "         [[0., 0., 0.],\n",
       "          [0., 0., 0.],\n",
       "          [0., 0., 0.],\n",
       "          ...,\n",
       "          [0., 0., 0.],\n",
       "          [0., 0., 0.],\n",
       "          [0., 0., 0.]]],\n",
       "\n",
       "\n",
       "        [[[0., 0., 0.],\n",
       "          [0., 0., 0.],\n",
       "          [0., 0., 0.],\n",
       "          ...,\n",
       "          [0., 0., 0.],\n",
       "          [0., 0., 0.],\n",
       "          [0., 0., 0.]],\n",
       "\n",
       "         [[0., 0., 0.],\n",
       "          [0., 0., 0.],\n",
       "          [0., 0., 0.],\n",
       "          ...,\n",
       "          [0., 0., 0.],\n",
       "          [0., 0., 0.],\n",
       "          [0., 0., 0.]],\n",
       "\n",
       "         [[0., 0., 0.],\n",
       "          [0., 0., 0.],\n",
       "          [0., 0., 0.],\n",
       "          ...,\n",
       "          [0., 0., 0.],\n",
       "          [0., 0., 0.],\n",
       "          [0., 0., 0.]],\n",
       "\n",
       "         ...,\n",
       "\n",
       "         [[0., 0., 0.],\n",
       "          [0., 0., 0.],\n",
       "          [0., 0., 0.],\n",
       "          ...,\n",
       "          [0., 0., 0.],\n",
       "          [0., 0., 0.],\n",
       "          [0., 0., 0.]],\n",
       "\n",
       "         [[0., 0., 0.],\n",
       "          [0., 0., 0.],\n",
       "          [0., 0., 0.],\n",
       "          ...,\n",
       "          [0., 0., 0.],\n",
       "          [0., 0., 0.],\n",
       "          [0., 0., 0.]],\n",
       "\n",
       "         [[0., 0., 0.],\n",
       "          [0., 0., 0.],\n",
       "          [0., 0., 0.],\n",
       "          ...,\n",
       "          [0., 0., 0.],\n",
       "          [0., 0., 0.],\n",
       "          [0., 0., 0.]]],\n",
       "\n",
       "\n",
       "        [[[0., 0., 0.],\n",
       "          [0., 0., 0.],\n",
       "          [0., 0., 0.],\n",
       "          ...,\n",
       "          [0., 0., 0.],\n",
       "          [0., 0., 0.],\n",
       "          [0., 0., 0.]],\n",
       "\n",
       "         [[0., 0., 0.],\n",
       "          [0., 0., 0.],\n",
       "          [0., 0., 0.],\n",
       "          ...,\n",
       "          [0., 0., 0.],\n",
       "          [0., 0., 0.],\n",
       "          [0., 0., 0.]],\n",
       "\n",
       "         [[0., 0., 0.],\n",
       "          [0., 0., 0.],\n",
       "          [0., 0., 0.],\n",
       "          ...,\n",
       "          [0., 0., 0.],\n",
       "          [0., 0., 0.],\n",
       "          [0., 0., 0.]],\n",
       "\n",
       "         ...,\n",
       "\n",
       "         [[0., 0., 0.],\n",
       "          [0., 0., 0.],\n",
       "          [0., 0., 0.],\n",
       "          ...,\n",
       "          [0., 0., 0.],\n",
       "          [0., 0., 0.],\n",
       "          [0., 0., 0.]],\n",
       "\n",
       "         [[0., 0., 0.],\n",
       "          [0., 0., 0.],\n",
       "          [0., 0., 0.],\n",
       "          ...,\n",
       "          [0., 0., 0.],\n",
       "          [0., 0., 0.],\n",
       "          [0., 0., 0.]],\n",
       "\n",
       "         [[0., 0., 0.],\n",
       "          [0., 0., 0.],\n",
       "          [0., 0., 0.],\n",
       "          ...,\n",
       "          [0., 0., 0.],\n",
       "          [0., 0., 0.],\n",
       "          [0., 0., 0.]]],\n",
       "\n",
       "\n",
       "        ...,\n",
       "\n",
       "\n",
       "        [[[0., 0., 0.],\n",
       "          [0., 0., 0.],\n",
       "          [0., 0., 0.],\n",
       "          ...,\n",
       "          [0., 0., 0.],\n",
       "          [0., 0., 0.],\n",
       "          [0., 0., 0.]],\n",
       "\n",
       "         [[0., 0., 0.],\n",
       "          [0., 0., 0.],\n",
       "          [0., 0., 0.],\n",
       "          ...,\n",
       "          [0., 0., 0.],\n",
       "          [0., 0., 0.],\n",
       "          [0., 0., 0.]],\n",
       "\n",
       "         [[0., 0., 0.],\n",
       "          [0., 0., 0.],\n",
       "          [0., 0., 0.],\n",
       "          ...,\n",
       "          [0., 0., 0.],\n",
       "          [0., 0., 0.],\n",
       "          [0., 0., 0.]],\n",
       "\n",
       "         ...,\n",
       "\n",
       "         [[0., 0., 0.],\n",
       "          [0., 0., 0.],\n",
       "          [0., 0., 0.],\n",
       "          ...,\n",
       "          [0., 0., 0.],\n",
       "          [0., 0., 0.],\n",
       "          [0., 0., 0.]],\n",
       "\n",
       "         [[0., 0., 0.],\n",
       "          [0., 0., 0.],\n",
       "          [0., 0., 0.],\n",
       "          ...,\n",
       "          [0., 0., 0.],\n",
       "          [0., 0., 0.],\n",
       "          [0., 0., 0.]],\n",
       "\n",
       "         [[0., 0., 0.],\n",
       "          [0., 0., 0.],\n",
       "          [0., 0., 0.],\n",
       "          ...,\n",
       "          [0., 0., 0.],\n",
       "          [0., 0., 0.],\n",
       "          [0., 0., 0.]]],\n",
       "\n",
       "\n",
       "        [[[0., 0., 0.],\n",
       "          [0., 0., 0.],\n",
       "          [0., 0., 0.],\n",
       "          ...,\n",
       "          [0., 0., 0.],\n",
       "          [0., 0., 0.],\n",
       "          [0., 0., 0.]],\n",
       "\n",
       "         [[0., 0., 0.],\n",
       "          [0., 0., 0.],\n",
       "          [0., 0., 0.],\n",
       "          ...,\n",
       "          [0., 0., 0.],\n",
       "          [0., 0., 0.],\n",
       "          [0., 0., 0.]],\n",
       "\n",
       "         [[0., 0., 0.],\n",
       "          [0., 0., 0.],\n",
       "          [0., 0., 0.],\n",
       "          ...,\n",
       "          [0., 0., 0.],\n",
       "          [0., 0., 0.],\n",
       "          [0., 0., 0.]],\n",
       "\n",
       "         ...,\n",
       "\n",
       "         [[0., 0., 0.],\n",
       "          [0., 0., 0.],\n",
       "          [0., 0., 0.],\n",
       "          ...,\n",
       "          [0., 0., 0.],\n",
       "          [0., 0., 0.],\n",
       "          [0., 0., 0.]],\n",
       "\n",
       "         [[0., 0., 0.],\n",
       "          [0., 0., 0.],\n",
       "          [0., 0., 0.],\n",
       "          ...,\n",
       "          [0., 0., 0.],\n",
       "          [0., 0., 0.],\n",
       "          [0., 0., 0.]],\n",
       "\n",
       "         [[0., 0., 0.],\n",
       "          [0., 0., 0.],\n",
       "          [0., 0., 0.],\n",
       "          ...,\n",
       "          [0., 0., 0.],\n",
       "          [0., 0., 0.],\n",
       "          [0., 0., 0.]]],\n",
       "\n",
       "\n",
       "        [[[0., 0., 0.],\n",
       "          [0., 0., 0.],\n",
       "          [0., 0., 0.],\n",
       "          ...,\n",
       "          [0., 0., 0.],\n",
       "          [0., 0., 0.],\n",
       "          [0., 0., 0.]],\n",
       "\n",
       "         [[0., 0., 0.],\n",
       "          [0., 0., 0.],\n",
       "          [0., 0., 0.],\n",
       "          ...,\n",
       "          [0., 0., 0.],\n",
       "          [0., 0., 0.],\n",
       "          [0., 0., 0.]],\n",
       "\n",
       "         [[0., 0., 0.],\n",
       "          [0., 0., 0.],\n",
       "          [0., 0., 0.],\n",
       "          ...,\n",
       "          [0., 0., 0.],\n",
       "          [0., 0., 0.],\n",
       "          [0., 0., 0.]],\n",
       "\n",
       "         ...,\n",
       "\n",
       "         [[0., 0., 0.],\n",
       "          [0., 0., 0.],\n",
       "          [0., 0., 0.],\n",
       "          ...,\n",
       "          [0., 0., 0.],\n",
       "          [0., 0., 0.],\n",
       "          [0., 0., 0.]],\n",
       "\n",
       "         [[0., 0., 0.],\n",
       "          [0., 0., 0.],\n",
       "          [0., 0., 0.],\n",
       "          ...,\n",
       "          [0., 0., 0.],\n",
       "          [0., 0., 0.],\n",
       "          [0., 0., 0.]],\n",
       "\n",
       "         [[0., 0., 0.],\n",
       "          [0., 0., 0.],\n",
       "          [0., 0., 0.],\n",
       "          ...,\n",
       "          [0., 0., 0.],\n",
       "          [0., 0., 0.],\n",
       "          [0., 0., 0.]]]])"
      ]
     },
     "execution_count": 436,
     "metadata": {},
     "output_type": "execute_result"
    }
   ],
   "source": [
    "images_pt = torch.zeros([32,28,28,3])\n",
    "images_pt"
   ]
  },
  {
   "cell_type": "code",
   "execution_count": null,
   "id": "1e3b9da1-2e55-415e-beaa-67b56c5dc3df",
   "metadata": {},
   "outputs": [],
   "source": []
  }
 ],
 "metadata": {
  "kernelspec": {
   "display_name": "Python 3 (ipykernel)",
   "language": "python",
   "name": "python3"
  },
  "language_info": {
   "codemirror_mode": {
    "name": "ipython",
    "version": 3
   },
   "file_extension": ".py",
   "mimetype": "text/x-python",
   "name": "python",
   "nbconvert_exporter": "python",
   "pygments_lexer": "ipython3",
   "version": "3.12.7"
  }
 },
 "nbformat": 4,
 "nbformat_minor": 5
}
