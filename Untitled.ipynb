{
 "cells": [
  {
   "cell_type": "code",
   "execution_count": 9,
   "id": "80c2a1c5-d9b7-4121-b980-cb559f004fe2",
   "metadata": {},
   "outputs": [
    {
     "data": {
      "text/latex": [
       "$\\displaystyle x$"
      ],
      "text/plain": [
       "x"
      ]
     },
     "execution_count": 9,
     "metadata": {},
     "output_type": "execute_result"
    }
   ],
   "source": [
    "import sympy as sym\n",
    "x = sym.symbols('x')\n",
    "x"
   ]
  },
  {
   "cell_type": "code",
   "execution_count": 17,
   "id": "f5816de8-a58c-454f-b683-f5d7f377b51f",
   "metadata": {},
   "outputs": [
    {
     "data": {
      "text/latex": [
       "$\\displaystyle \\frac{3 x^{2}}{2} + 2 x + \\log{\\left(x \\right)}$"
      ],
      "text/plain": [
       "3*x**2/2 + 2*x + log(x)"
      ]
     },
     "execution_count": 17,
     "metadata": {},
     "output_type": "execute_result"
    }
   ],
   "source": [
    "sym.integrate(x/x**2+3*x+2, x)"
   ]
  },
  {
   "cell_type": "code",
   "execution_count": 29,
   "id": "57cb374f-ef9c-4b10-96bf-794739df5572",
   "metadata": {},
   "outputs": [
    {
     "data": {
      "text/latex": [
       "$\\displaystyle \\frac{\\log{\\left(x^{2} + 3 x + 2 \\right)}}{2}$"
      ],
      "text/plain": [
       "log(x**2 + 3*x + 2)/2"
      ]
     },
     "execution_count": 29,
     "metadata": {},
     "output_type": "execute_result"
    }
   ],
   "source": [
    "sym.integrate(sym.Rational(1,2)*(2*x+3)/(x**2+3*x+2), x)"
   ]
  },
  {
   "cell_type": "code",
   "execution_count": 31,
   "id": "cac56594-6b92-4d8f-87c6-b2c2f7b31000",
   "metadata": {},
   "outputs": [
    {
     "data": {
      "text/latex": [
       "$\\displaystyle - 3 \\log{\\left(x + 1 \\right)} + 3 \\log{\\left(x + 2 \\right)}$"
      ],
      "text/plain": [
       "-3*log(x + 1) + 3*log(x + 2)"
      ]
     },
     "execution_count": 31,
     "metadata": {},
     "output_type": "execute_result"
    }
   ],
   "source": [
    "sym.integrate(-3/(x**2+3*x+2))"
   ]
  },
  {
   "cell_type": "code",
   "execution_count": null,
   "id": "c6587093-ab4d-4e33-add9-9e24ba168c05",
   "metadata": {},
   "outputs": [],
   "source": []
  }
 ],
 "metadata": {
  "kernelspec": {
   "display_name": "Python [conda env:base] *",
   "language": "python",
   "name": "conda-base-py"
  },
  "language_info": {
   "codemirror_mode": {
    "name": "ipython",
    "version": 3
   },
   "file_extension": ".py",
   "mimetype": "text/x-python",
   "name": "python",
   "nbconvert_exporter": "python",
   "pygments_lexer": "ipython3",
   "version": "3.12.7"
  }
 },
 "nbformat": 4,
 "nbformat_minor": 5
}
